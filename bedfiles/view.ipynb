{
 "cells": [
  {
   "cell_type": "code",
   "execution_count": 14,
   "metadata": {
    "vscode": {
     "languageId": "r"
    }
   },
   "outputs": [
    {
     "data": {
      "text/html": [
       "<style>\n",
       ".list-inline {list-style: none; margin:0; padding: 0}\n",
       ".list-inline>li {display: inline-block}\n",
       ".list-inline>li:not(:last-child)::after {content: \"\\00b7\"; padding: 0 .5ex}\n",
       "</style>\n",
       "<ol class=list-inline><li>524198</li><li>9</li></ol>\n"
      ],
      "text/latex": [
       "\\begin{enumerate*}\n",
       "\\item 524198\n",
       "\\item 9\n",
       "\\end{enumerate*}\n"
      ],
      "text/markdown": [
       "1. 524198\n",
       "2. 9\n",
       "\n",
       "\n"
      ],
      "text/plain": [
       "[1] 524198      9"
      ]
     },
     "metadata": {},
     "output_type": "display_data"
    },
    {
     "data": {
      "text/plain": [
       "\n",
       "        CDS        exon        gene start_codon  stop_codon  transcript \n",
       "     193930      204311       19288       19385       19372       19352 \n",
       "        UTR \n",
       "      48560 "
      ]
     },
     "metadata": {},
     "output_type": "display_data"
    }
   ],
   "source": [
    "mane_path=\"/mnt/NAS_PROJECT/vol_Phucteam/CONGNGUYEN/pipeline/nf-core-buildreference/bedfiles/MANE.GRCh38.v1.3.ensembl_genomic.gtf\"\n",
    "mane = read.csv(mane_path, sep=\"\\t\", header=F)\n",
    "dim(mane)\n",
    "\n",
    "#Count the number of each value in V3\n",
    "table(mane$V3)\n",
    "\n",
    "#Extract feature\n",
    "mane_exon = mane[mane$V3 == \"exon\",]\n",
    "mane_gene = mane[mane$V3 == \"gene\",]\n",
    "mane_cds = mane[mane$V3 == \"CDS\",]\n",
    "\n",
    "#Only take V1,V3,V4,V5\n",
    "mane_exon = mane_exon[,c(1,4,5)]\n",
    "mane_gene = mane_gene[,c(1,4,5)]\n",
    "mane_cds  = mane_cds[,c(1,4,5)]\n",
    "\n",
    "#Write to file\n",
    "write.table(mane_exon, file=\"mane_exon.bed\", sep=\"\\t\", row.names=F, col.names=F,quote = F)\n",
    "write.table(mane_gene, file=\"mane_gene.bed\", sep=\"\\t\", row.names=F, col.names=F,quote = F)\n",
    "write.table(mane_cds, file=\"mane_cds.bed\", sep=\"\\t\", row.names=F, col.names=F,quote = F)\n",
    "\n"
   ]
  },
  {
   "cell_type": "code",
   "execution_count": 11,
   "metadata": {
    "vscode": {
     "languageId": "r"
    }
   },
   "outputs": [
    {
     "data": {
      "text/html": [
       "<table class=\"dataframe\">\n",
       "<caption>A data.frame: 6 × 4</caption>\n",
       "<thead>\n",
       "\t<tr><th></th><th scope=col>V1</th><th scope=col>V3</th><th scope=col>V4</th><th scope=col>V5</th></tr>\n",
       "\t<tr><th></th><th scope=col>&lt;chr&gt;</th><th scope=col>&lt;chr&gt;</th><th scope=col>&lt;int&gt;</th><th scope=col>&lt;int&gt;</th></tr>\n",
       "</thead>\n",
       "<tbody>\n",
       "\t<tr><th scope=row>3</th><td>chr1</td><td>exon</td><td>3069203</td><td>3069296</td></tr>\n",
       "\t<tr><th scope=row>6</th><td>chr1</td><td>exon</td><td>3186125</td><td>3186474</td></tr>\n",
       "\t<tr><th scope=row>8</th><td>chr1</td><td>exon</td><td>3244087</td><td>3244137</td></tr>\n",
       "\t<tr><th scope=row>10</th><td>chr1</td><td>exon</td><td>3385152</td><td>3385286</td></tr>\n",
       "\t<tr><th scope=row>12</th><td>chr1</td><td>exon</td><td>3396491</td><td>3396593</td></tr>\n",
       "\t<tr><th scope=row>14</th><td>chr1</td><td>exon</td><td>3402791</td><td>3402998</td></tr>\n",
       "</tbody>\n",
       "</table>\n"
      ],
      "text/latex": [
       "A data.frame: 6 × 4\n",
       "\\begin{tabular}{r|llll}\n",
       "  & V1 & V3 & V4 & V5\\\\\n",
       "  & <chr> & <chr> & <int> & <int>\\\\\n",
       "\\hline\n",
       "\t3 & chr1 & exon & 3069203 & 3069296\\\\\n",
       "\t6 & chr1 & exon & 3186125 & 3186474\\\\\n",
       "\t8 & chr1 & exon & 3244087 & 3244137\\\\\n",
       "\t10 & chr1 & exon & 3385152 & 3385286\\\\\n",
       "\t12 & chr1 & exon & 3396491 & 3396593\\\\\n",
       "\t14 & chr1 & exon & 3402791 & 3402998\\\\\n",
       "\\end{tabular}\n"
      ],
      "text/markdown": [
       "\n",
       "A data.frame: 6 × 4\n",
       "\n",
       "| <!--/--> | V1 &lt;chr&gt; | V3 &lt;chr&gt; | V4 &lt;int&gt; | V5 &lt;int&gt; |\n",
       "|---|---|---|---|---|\n",
       "| 3 | chr1 | exon | 3069203 | 3069296 |\n",
       "| 6 | chr1 | exon | 3186125 | 3186474 |\n",
       "| 8 | chr1 | exon | 3244087 | 3244137 |\n",
       "| 10 | chr1 | exon | 3385152 | 3385286 |\n",
       "| 12 | chr1 | exon | 3396491 | 3396593 |\n",
       "| 14 | chr1 | exon | 3402791 | 3402998 |\n",
       "\n"
      ],
      "text/plain": [
       "   V1   V3   V4      V5     \n",
       "3  chr1 exon 3069203 3069296\n",
       "6  chr1 exon 3186125 3186474\n",
       "8  chr1 exon 3244087 3244137\n",
       "10 chr1 exon 3385152 3385286\n",
       "12 chr1 exon 3396491 3396593\n",
       "14 chr1 exon 3402791 3402998"
      ]
     },
     "metadata": {},
     "output_type": "display_data"
    },
    {
     "data": {
      "text/html": [
       "<table class=\"dataframe\">\n",
       "<caption>A data.frame: 6 × 4</caption>\n",
       "<thead>\n",
       "\t<tr><th></th><th scope=col>V1</th><th scope=col>V3</th><th scope=col>V4</th><th scope=col>V5</th></tr>\n",
       "\t<tr><th></th><th scope=col>&lt;chr&gt;</th><th scope=col>&lt;chr&gt;</th><th scope=col>&lt;int&gt;</th><th scope=col>&lt;int&gt;</th></tr>\n",
       "</thead>\n",
       "<tbody>\n",
       "\t<tr><th scope=row>1</th><td>chr1</td><td>gene</td><td> 3069168</td><td> 3438621</td></tr>\n",
       "\t<tr><th scope=row>41</th><td>chr1</td><td>gene</td><td> 2403964</td><td> 2413797</td></tr>\n",
       "\t<tr><th scope=row>59</th><td>chr1</td><td>gene</td><td>10472288</td><td>10630758</td></tr>\n",
       "\t<tr><th scope=row>83</th><td>chr1</td><td>gene</td><td> 2425980</td><td> 2505532</td></tr>\n",
       "\t<tr><th scope=row>133</th><td>chr1</td><td>gene</td><td> 9292894</td><td> 9369532</td></tr>\n",
       "\t<tr><th scope=row>145</th><td>chr1</td><td>gene</td><td> 9035106</td><td> 9088478</td></tr>\n",
       "</tbody>\n",
       "</table>\n"
      ],
      "text/latex": [
       "A data.frame: 6 × 4\n",
       "\\begin{tabular}{r|llll}\n",
       "  & V1 & V3 & V4 & V5\\\\\n",
       "  & <chr> & <chr> & <int> & <int>\\\\\n",
       "\\hline\n",
       "\t1 & chr1 & gene &  3069168 &  3438621\\\\\n",
       "\t41 & chr1 & gene &  2403964 &  2413797\\\\\n",
       "\t59 & chr1 & gene & 10472288 & 10630758\\\\\n",
       "\t83 & chr1 & gene &  2425980 &  2505532\\\\\n",
       "\t133 & chr1 & gene &  9292894 &  9369532\\\\\n",
       "\t145 & chr1 & gene &  9035106 &  9088478\\\\\n",
       "\\end{tabular}\n"
      ],
      "text/markdown": [
       "\n",
       "A data.frame: 6 × 4\n",
       "\n",
       "| <!--/--> | V1 &lt;chr&gt; | V3 &lt;chr&gt; | V4 &lt;int&gt; | V5 &lt;int&gt; |\n",
       "|---|---|---|---|---|\n",
       "| 1 | chr1 | gene |  3069168 |  3438621 |\n",
       "| 41 | chr1 | gene |  2403964 |  2413797 |\n",
       "| 59 | chr1 | gene | 10472288 | 10630758 |\n",
       "| 83 | chr1 | gene |  2425980 |  2505532 |\n",
       "| 133 | chr1 | gene |  9292894 |  9369532 |\n",
       "| 145 | chr1 | gene |  9035106 |  9088478 |\n",
       "\n"
      ],
      "text/plain": [
       "    V1   V3   V4       V5      \n",
       "1   chr1 gene  3069168  3438621\n",
       "41  chr1 gene  2403964  2413797\n",
       "59  chr1 gene 10472288 10630758\n",
       "83  chr1 gene  2425980  2505532\n",
       "133 chr1 gene  9292894  9369532\n",
       "145 chr1 gene  9035106  9088478"
      ]
     },
     "metadata": {},
     "output_type": "display_data"
    },
    {
     "data": {
      "text/html": [
       "<table class=\"dataframe\">\n",
       "<caption>A data.frame: 6 × 4</caption>\n",
       "<thead>\n",
       "\t<tr><th></th><th scope=col>V1</th><th scope=col>V3</th><th scope=col>V4</th><th scope=col>V5</th></tr>\n",
       "\t<tr><th></th><th scope=col>&lt;chr&gt;</th><th scope=col>&lt;chr&gt;</th><th scope=col>&lt;int&gt;</th><th scope=col>&lt;int&gt;</th></tr>\n",
       "</thead>\n",
       "<tbody>\n",
       "\t<tr><th scope=row>4</th><td>chr1</td><td>CDS</td><td>3069260</td><td>3069296</td></tr>\n",
       "\t<tr><th scope=row>7</th><td>chr1</td><td>CDS</td><td>3186125</td><td>3186474</td></tr>\n",
       "\t<tr><th scope=row>9</th><td>chr1</td><td>CDS</td><td>3244087</td><td>3244137</td></tr>\n",
       "\t<tr><th scope=row>11</th><td>chr1</td><td>CDS</td><td>3385152</td><td>3385286</td></tr>\n",
       "\t<tr><th scope=row>13</th><td>chr1</td><td>CDS</td><td>3396491</td><td>3396593</td></tr>\n",
       "\t<tr><th scope=row>15</th><td>chr1</td><td>CDS</td><td>3402791</td><td>3402998</td></tr>\n",
       "</tbody>\n",
       "</table>\n"
      ],
      "text/latex": [
       "A data.frame: 6 × 4\n",
       "\\begin{tabular}{r|llll}\n",
       "  & V1 & V3 & V4 & V5\\\\\n",
       "  & <chr> & <chr> & <int> & <int>\\\\\n",
       "\\hline\n",
       "\t4 & chr1 & CDS & 3069260 & 3069296\\\\\n",
       "\t7 & chr1 & CDS & 3186125 & 3186474\\\\\n",
       "\t9 & chr1 & CDS & 3244087 & 3244137\\\\\n",
       "\t11 & chr1 & CDS & 3385152 & 3385286\\\\\n",
       "\t13 & chr1 & CDS & 3396491 & 3396593\\\\\n",
       "\t15 & chr1 & CDS & 3402791 & 3402998\\\\\n",
       "\\end{tabular}\n"
      ],
      "text/markdown": [
       "\n",
       "A data.frame: 6 × 4\n",
       "\n",
       "| <!--/--> | V1 &lt;chr&gt; | V3 &lt;chr&gt; | V4 &lt;int&gt; | V5 &lt;int&gt; |\n",
       "|---|---|---|---|---|\n",
       "| 4 | chr1 | CDS | 3069260 | 3069296 |\n",
       "| 7 | chr1 | CDS | 3186125 | 3186474 |\n",
       "| 9 | chr1 | CDS | 3244087 | 3244137 |\n",
       "| 11 | chr1 | CDS | 3385152 | 3385286 |\n",
       "| 13 | chr1 | CDS | 3396491 | 3396593 |\n",
       "| 15 | chr1 | CDS | 3402791 | 3402998 |\n",
       "\n"
      ],
      "text/plain": [
       "   V1   V3  V4      V5     \n",
       "4  chr1 CDS 3069260 3069296\n",
       "7  chr1 CDS 3186125 3186474\n",
       "9  chr1 CDS 3244087 3244137\n",
       "11 chr1 CDS 3385152 3385286\n",
       "13 chr1 CDS 3396491 3396593\n",
       "15 chr1 CDS 3402791 3402998"
      ]
     },
     "metadata": {},
     "output_type": "display_data"
    }
   ],
   "source": [
    "head(mane_exon)\n",
    "head(mane_gene)\n",
    "head(mane_cds)"
   ]
  },
  {
   "cell_type": "code",
   "execution_count": null,
   "metadata": {
    "vscode": {
     "languageId": "r"
    }
   },
   "outputs": [],
   "source": []
  },
  {
   "cell_type": "code",
   "execution_count": null,
   "metadata": {
    "vscode": {
     "languageId": "r"
    }
   },
   "outputs": [],
   "source": []
  },
  {
   "cell_type": "code",
   "execution_count": null,
   "metadata": {
    "vscode": {
     "languageId": "r"
    }
   },
   "outputs": [],
   "source": []
  }
 ],
 "metadata": {
  "kernelspec": {
   "display_name": "R",
   "language": "R",
   "name": "ir"
  },
  "language_info": {
   "codemirror_mode": "r",
   "file_extension": ".r",
   "mimetype": "text/x-r-source",
   "name": "R",
   "pygments_lexer": "r",
   "version": "4.3.3"
  }
 },
 "nbformat": 4,
 "nbformat_minor": 2
}
